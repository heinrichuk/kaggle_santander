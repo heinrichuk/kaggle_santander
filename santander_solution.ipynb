{
  "cells": [
    {
      "cell_type": "markdown",
      "id": "2bb02e7d",
      "metadata": {
        "id": "2bb02e7d"
      },
      "source": [
        "# Santander Customer Transaction Prediction\n",
        "This notebook provides an **end‑to‑end, reproducible baseline** for the Kaggle competition. Run the cells in order on **Google Colab**.\n",
        "\n",
        "*Competition page*: https://www.kaggle.com/competitions/santander-customer-transaction-prediction\n"
      ]
    },
    {
      "cell_type": "markdown",
      "id": "df5484a7",
      "metadata": {
        "id": "df5484a7"
      },
      "source": [
        "## 1  Environment & data set‑up\n",
        "Colab tips:\n",
        "1. Upload your `kaggle.json` (API key) to `/content` and run the first cell.\n",
        "2. **OR** manually upload the four CSVs from [the Data tab](https://www.kaggle.com/competitions/santander-customer-transaction-prediction/data) into Colab.\n",
        "3. GPU is *not* required but speeds up LightGBM.\n"
      ]
    },
    {
      "cell_type": "code",
      "execution_count": null,
      "id": "f9df37b2",
      "metadata": {
        "colab": {
          "base_uri": "https://localhost:8080/"
        },
        "id": "f9df37b2",
        "outputId": "7d7331a1-7c42-42d9-f530-ce6e7e2236b6"
      },
      "outputs": [
        {
          "output_type": "stream",
          "name": "stdout",
          "text": [
            "Warning: Your Kaggle API key is readable by other users on this system! To fix this, you can run 'chmod 600 /content/kaggle.json'\n",
            "Setup complete ✅\n"
          ]
        }
      ],
      "source": [
        "!pip -q install kaggle lightgbm optuna --upgrade\n",
        "\n",
        "import os, zipfile, warnings, math, gc, random, json\n",
        "import numpy as np, pandas as pd\n",
        "import lightgbm as lgb\n",
        "import matplotlib.pyplot as plt\n",
        "from sklearn.model_selection import StratifiedKFold\n",
        "from sklearn.metrics import roc_auc_score\n",
        "\n",
        "warnings.filterwarnings('ignore')\n",
        "SEED = 42\n",
        "np.random.seed(SEED)\n",
        "\n",
        "# ── 1. Download from Kaggle if credentials present ──────────────────────────── #\n",
        "if os.path.exists('/content/kaggle.json'):\n",
        "    os.environ['KAGGLE_CONFIG_DIR'] = '/content'\n",
        "    !kaggle competitions download -c santander-customer-transaction-prediction -p /content --quiet\n",
        "\n",
        "# ── 2. Unzip *all* .zip files in /content (idempotent) ─────────────────────── #\n",
        "for fname in os.listdir('/content'):\n",
        "    if fname.endswith('.zip'):\n",
        "        zpath = os.path.join('/content', fname)\n",
        "        with zipfile.ZipFile(zpath) as z:\n",
        "            z.extractall('/content')   # extracts only if not already present\n",
        "\n",
        "print('Setup complete ✅')\n"
      ]
    },
    {
      "cell_type": "markdown",
      "id": "903f42c4",
      "metadata": {
        "id": "903f42c4"
      },
      "source": [
        "## 2  Load data"
      ]
    },
    {
      "cell_type": "code",
      "execution_count": null,
      "id": "ff87a0d2",
      "metadata": {
        "colab": {
          "base_uri": "https://localhost:8080/",
          "height": 273
        },
        "id": "ff87a0d2",
        "outputId": "d8260345-0850-490d-bbb4-145e0b408ec0"
      },
      "outputs": [
        {
          "output_type": "stream",
          "name": "stdout",
          "text": [
            "(200000, 202) (200000, 201)\n"
          ]
        },
        {
          "output_type": "display_data",
          "data": {
            "text/plain": [
              "   ID_code  target    var_0   var_1    var_2   var_3    var_4   var_5   var_6  \\\n",
              "0  train_0       0   8.9255 -6.7863  11.9081  5.0930  11.4607 -9.2834  5.1187   \n",
              "1  train_1       0  11.5006 -4.1473  13.8588  5.3890  12.3622  7.0433  5.6208   \n",
              "2  train_2       0   8.6093 -2.7457  12.0805  7.8928  10.5825 -9.0837  6.9427   \n",
              "3  train_3       0  11.0604 -2.1518   8.9522  7.1957  12.5846 -1.8361  5.8428   \n",
              "4  train_4       0   9.8369 -1.4834  12.8746  6.6375  12.2772  2.4486  5.9405   \n",
              "\n",
              "     var_7  ...  var_190  var_191  var_192  var_193  var_194  var_195  \\\n",
              "0  18.6266  ...   4.4354   3.9642   3.1364   1.6910  18.5227  -2.3978   \n",
              "1  16.5338  ...   7.6421   7.7214   2.5837  10.9516  15.4305   2.0339   \n",
              "2  14.6155  ...   2.9057   9.7905   1.6704   1.6858  21.6042   3.1417   \n",
              "3  14.9250  ...   4.4666   4.7433   0.7178   1.4214  23.0347  -1.2706   \n",
              "4  19.2514  ...  -1.4905   9.5214  -0.1508   9.1942  13.2876  -1.5121   \n",
              "\n",
              "   var_196  var_197  var_198  var_199  \n",
              "0   7.8784   8.5635  12.7803  -1.0914  \n",
              "1   8.1267   8.7889  18.3560   1.9518  \n",
              "2  -6.5213   8.2675  14.7222   0.3965  \n",
              "3  -2.9275  10.2922  17.9697  -8.9996  \n",
              "4   3.9267   9.5031  17.9974  -8.8104  \n",
              "\n",
              "[5 rows x 202 columns]"
            ],
            "text/html": [
              "\n",
              "  <div id=\"df-4236e316-cb68-49af-82ce-95a5d0b10931\" class=\"colab-df-container\">\n",
              "    <div>\n",
              "<style scoped>\n",
              "    .dataframe tbody tr th:only-of-type {\n",
              "        vertical-align: middle;\n",
              "    }\n",
              "\n",
              "    .dataframe tbody tr th {\n",
              "        vertical-align: top;\n",
              "    }\n",
              "\n",
              "    .dataframe thead th {\n",
              "        text-align: right;\n",
              "    }\n",
              "</style>\n",
              "<table border=\"1\" class=\"dataframe\">\n",
              "  <thead>\n",
              "    <tr style=\"text-align: right;\">\n",
              "      <th></th>\n",
              "      <th>ID_code</th>\n",
              "      <th>target</th>\n",
              "      <th>var_0</th>\n",
              "      <th>var_1</th>\n",
              "      <th>var_2</th>\n",
              "      <th>var_3</th>\n",
              "      <th>var_4</th>\n",
              "      <th>var_5</th>\n",
              "      <th>var_6</th>\n",
              "      <th>var_7</th>\n",
              "      <th>...</th>\n",
              "      <th>var_190</th>\n",
              "      <th>var_191</th>\n",
              "      <th>var_192</th>\n",
              "      <th>var_193</th>\n",
              "      <th>var_194</th>\n",
              "      <th>var_195</th>\n",
              "      <th>var_196</th>\n",
              "      <th>var_197</th>\n",
              "      <th>var_198</th>\n",
              "      <th>var_199</th>\n",
              "    </tr>\n",
              "  </thead>\n",
              "  <tbody>\n",
              "    <tr>\n",
              "      <th>0</th>\n",
              "      <td>train_0</td>\n",
              "      <td>0</td>\n",
              "      <td>8.9255</td>\n",
              "      <td>-6.7863</td>\n",
              "      <td>11.9081</td>\n",
              "      <td>5.0930</td>\n",
              "      <td>11.4607</td>\n",
              "      <td>-9.2834</td>\n",
              "      <td>5.1187</td>\n",
              "      <td>18.6266</td>\n",
              "      <td>...</td>\n",
              "      <td>4.4354</td>\n",
              "      <td>3.9642</td>\n",
              "      <td>3.1364</td>\n",
              "      <td>1.6910</td>\n",
              "      <td>18.5227</td>\n",
              "      <td>-2.3978</td>\n",
              "      <td>7.8784</td>\n",
              "      <td>8.5635</td>\n",
              "      <td>12.7803</td>\n",
              "      <td>-1.0914</td>\n",
              "    </tr>\n",
              "    <tr>\n",
              "      <th>1</th>\n",
              "      <td>train_1</td>\n",
              "      <td>0</td>\n",
              "      <td>11.5006</td>\n",
              "      <td>-4.1473</td>\n",
              "      <td>13.8588</td>\n",
              "      <td>5.3890</td>\n",
              "      <td>12.3622</td>\n",
              "      <td>7.0433</td>\n",
              "      <td>5.6208</td>\n",
              "      <td>16.5338</td>\n",
              "      <td>...</td>\n",
              "      <td>7.6421</td>\n",
              "      <td>7.7214</td>\n",
              "      <td>2.5837</td>\n",
              "      <td>10.9516</td>\n",
              "      <td>15.4305</td>\n",
              "      <td>2.0339</td>\n",
              "      <td>8.1267</td>\n",
              "      <td>8.7889</td>\n",
              "      <td>18.3560</td>\n",
              "      <td>1.9518</td>\n",
              "    </tr>\n",
              "    <tr>\n",
              "      <th>2</th>\n",
              "      <td>train_2</td>\n",
              "      <td>0</td>\n",
              "      <td>8.6093</td>\n",
              "      <td>-2.7457</td>\n",
              "      <td>12.0805</td>\n",
              "      <td>7.8928</td>\n",
              "      <td>10.5825</td>\n",
              "      <td>-9.0837</td>\n",
              "      <td>6.9427</td>\n",
              "      <td>14.6155</td>\n",
              "      <td>...</td>\n",
              "      <td>2.9057</td>\n",
              "      <td>9.7905</td>\n",
              "      <td>1.6704</td>\n",
              "      <td>1.6858</td>\n",
              "      <td>21.6042</td>\n",
              "      <td>3.1417</td>\n",
              "      <td>-6.5213</td>\n",
              "      <td>8.2675</td>\n",
              "      <td>14.7222</td>\n",
              "      <td>0.3965</td>\n",
              "    </tr>\n",
              "    <tr>\n",
              "      <th>3</th>\n",
              "      <td>train_3</td>\n",
              "      <td>0</td>\n",
              "      <td>11.0604</td>\n",
              "      <td>-2.1518</td>\n",
              "      <td>8.9522</td>\n",
              "      <td>7.1957</td>\n",
              "      <td>12.5846</td>\n",
              "      <td>-1.8361</td>\n",
              "      <td>5.8428</td>\n",
              "      <td>14.9250</td>\n",
              "      <td>...</td>\n",
              "      <td>4.4666</td>\n",
              "      <td>4.7433</td>\n",
              "      <td>0.7178</td>\n",
              "      <td>1.4214</td>\n",
              "      <td>23.0347</td>\n",
              "      <td>-1.2706</td>\n",
              "      <td>-2.9275</td>\n",
              "      <td>10.2922</td>\n",
              "      <td>17.9697</td>\n",
              "      <td>-8.9996</td>\n",
              "    </tr>\n",
              "    <tr>\n",
              "      <th>4</th>\n",
              "      <td>train_4</td>\n",
              "      <td>0</td>\n",
              "      <td>9.8369</td>\n",
              "      <td>-1.4834</td>\n",
              "      <td>12.8746</td>\n",
              "      <td>6.6375</td>\n",
              "      <td>12.2772</td>\n",
              "      <td>2.4486</td>\n",
              "      <td>5.9405</td>\n",
              "      <td>19.2514</td>\n",
              "      <td>...</td>\n",
              "      <td>-1.4905</td>\n",
              "      <td>9.5214</td>\n",
              "      <td>-0.1508</td>\n",
              "      <td>9.1942</td>\n",
              "      <td>13.2876</td>\n",
              "      <td>-1.5121</td>\n",
              "      <td>3.9267</td>\n",
              "      <td>9.5031</td>\n",
              "      <td>17.9974</td>\n",
              "      <td>-8.8104</td>\n",
              "    </tr>\n",
              "  </tbody>\n",
              "</table>\n",
              "<p>5 rows × 202 columns</p>\n",
              "</div>\n",
              "    <div class=\"colab-df-buttons\">\n",
              "\n",
              "  <div class=\"colab-df-container\">\n",
              "    <button class=\"colab-df-convert\" onclick=\"convertToInteractive('df-4236e316-cb68-49af-82ce-95a5d0b10931')\"\n",
              "            title=\"Convert this dataframe to an interactive table.\"\n",
              "            style=\"display:none;\">\n",
              "\n",
              "  <svg xmlns=\"http://www.w3.org/2000/svg\" height=\"24px\" viewBox=\"0 -960 960 960\">\n",
              "    <path d=\"M120-120v-720h720v720H120Zm60-500h600v-160H180v160Zm220 220h160v-160H400v160Zm0 220h160v-160H400v160ZM180-400h160v-160H180v160Zm440 0h160v-160H620v160ZM180-180h160v-160H180v160Zm440 0h160v-160H620v160Z\"/>\n",
              "  </svg>\n",
              "    </button>\n",
              "\n",
              "  <style>\n",
              "    .colab-df-container {\n",
              "      display:flex;\n",
              "      gap: 12px;\n",
              "    }\n",
              "\n",
              "    .colab-df-convert {\n",
              "      background-color: #E8F0FE;\n",
              "      border: none;\n",
              "      border-radius: 50%;\n",
              "      cursor: pointer;\n",
              "      display: none;\n",
              "      fill: #1967D2;\n",
              "      height: 32px;\n",
              "      padding: 0 0 0 0;\n",
              "      width: 32px;\n",
              "    }\n",
              "\n",
              "    .colab-df-convert:hover {\n",
              "      background-color: #E2EBFA;\n",
              "      box-shadow: 0px 1px 2px rgba(60, 64, 67, 0.3), 0px 1px 3px 1px rgba(60, 64, 67, 0.15);\n",
              "      fill: #174EA6;\n",
              "    }\n",
              "\n",
              "    .colab-df-buttons div {\n",
              "      margin-bottom: 4px;\n",
              "    }\n",
              "\n",
              "    [theme=dark] .colab-df-convert {\n",
              "      background-color: #3B4455;\n",
              "      fill: #D2E3FC;\n",
              "    }\n",
              "\n",
              "    [theme=dark] .colab-df-convert:hover {\n",
              "      background-color: #434B5C;\n",
              "      box-shadow: 0px 1px 3px 1px rgba(0, 0, 0, 0.15);\n",
              "      filter: drop-shadow(0px 1px 2px rgba(0, 0, 0, 0.3));\n",
              "      fill: #FFFFFF;\n",
              "    }\n",
              "  </style>\n",
              "\n",
              "    <script>\n",
              "      const buttonEl =\n",
              "        document.querySelector('#df-4236e316-cb68-49af-82ce-95a5d0b10931 button.colab-df-convert');\n",
              "      buttonEl.style.display =\n",
              "        google.colab.kernel.accessAllowed ? 'block' : 'none';\n",
              "\n",
              "      async function convertToInteractive(key) {\n",
              "        const element = document.querySelector('#df-4236e316-cb68-49af-82ce-95a5d0b10931');\n",
              "        const dataTable =\n",
              "          await google.colab.kernel.invokeFunction('convertToInteractive',\n",
              "                                                    [key], {});\n",
              "        if (!dataTable) return;\n",
              "\n",
              "        const docLinkHtml = 'Like what you see? Visit the ' +\n",
              "          '<a target=\"_blank\" href=https://colab.research.google.com/notebooks/data_table.ipynb>data table notebook</a>'\n",
              "          + ' to learn more about interactive tables.';\n",
              "        element.innerHTML = '';\n",
              "        dataTable['output_type'] = 'display_data';\n",
              "        await google.colab.output.renderOutput(dataTable, element);\n",
              "        const docLink = document.createElement('div');\n",
              "        docLink.innerHTML = docLinkHtml;\n",
              "        element.appendChild(docLink);\n",
              "      }\n",
              "    </script>\n",
              "  </div>\n",
              "\n",
              "\n",
              "    <div id=\"df-6f1cec95-374d-4196-acec-127dd5c3057b\">\n",
              "      <button class=\"colab-df-quickchart\" onclick=\"quickchart('df-6f1cec95-374d-4196-acec-127dd5c3057b')\"\n",
              "                title=\"Suggest charts\"\n",
              "                style=\"display:none;\">\n",
              "\n",
              "<svg xmlns=\"http://www.w3.org/2000/svg\" height=\"24px\"viewBox=\"0 0 24 24\"\n",
              "     width=\"24px\">\n",
              "    <g>\n",
              "        <path d=\"M19 3H5c-1.1 0-2 .9-2 2v14c0 1.1.9 2 2 2h14c1.1 0 2-.9 2-2V5c0-1.1-.9-2-2-2zM9 17H7v-7h2v7zm4 0h-2V7h2v10zm4 0h-2v-4h2v4z\"/>\n",
              "    </g>\n",
              "</svg>\n",
              "      </button>\n",
              "\n",
              "<style>\n",
              "  .colab-df-quickchart {\n",
              "      --bg-color: #E8F0FE;\n",
              "      --fill-color: #1967D2;\n",
              "      --hover-bg-color: #E2EBFA;\n",
              "      --hover-fill-color: #174EA6;\n",
              "      --disabled-fill-color: #AAA;\n",
              "      --disabled-bg-color: #DDD;\n",
              "  }\n",
              "\n",
              "  [theme=dark] .colab-df-quickchart {\n",
              "      --bg-color: #3B4455;\n",
              "      --fill-color: #D2E3FC;\n",
              "      --hover-bg-color: #434B5C;\n",
              "      --hover-fill-color: #FFFFFF;\n",
              "      --disabled-bg-color: #3B4455;\n",
              "      --disabled-fill-color: #666;\n",
              "  }\n",
              "\n",
              "  .colab-df-quickchart {\n",
              "    background-color: var(--bg-color);\n",
              "    border: none;\n",
              "    border-radius: 50%;\n",
              "    cursor: pointer;\n",
              "    display: none;\n",
              "    fill: var(--fill-color);\n",
              "    height: 32px;\n",
              "    padding: 0;\n",
              "    width: 32px;\n",
              "  }\n",
              "\n",
              "  .colab-df-quickchart:hover {\n",
              "    background-color: var(--hover-bg-color);\n",
              "    box-shadow: 0 1px 2px rgba(60, 64, 67, 0.3), 0 1px 3px 1px rgba(60, 64, 67, 0.15);\n",
              "    fill: var(--button-hover-fill-color);\n",
              "  }\n",
              "\n",
              "  .colab-df-quickchart-complete:disabled,\n",
              "  .colab-df-quickchart-complete:disabled:hover {\n",
              "    background-color: var(--disabled-bg-color);\n",
              "    fill: var(--disabled-fill-color);\n",
              "    box-shadow: none;\n",
              "  }\n",
              "\n",
              "  .colab-df-spinner {\n",
              "    border: 2px solid var(--fill-color);\n",
              "    border-color: transparent;\n",
              "    border-bottom-color: var(--fill-color);\n",
              "    animation:\n",
              "      spin 1s steps(1) infinite;\n",
              "  }\n",
              "\n",
              "  @keyframes spin {\n",
              "    0% {\n",
              "      border-color: transparent;\n",
              "      border-bottom-color: var(--fill-color);\n",
              "      border-left-color: var(--fill-color);\n",
              "    }\n",
              "    20% {\n",
              "      border-color: transparent;\n",
              "      border-left-color: var(--fill-color);\n",
              "      border-top-color: var(--fill-color);\n",
              "    }\n",
              "    30% {\n",
              "      border-color: transparent;\n",
              "      border-left-color: var(--fill-color);\n",
              "      border-top-color: var(--fill-color);\n",
              "      border-right-color: var(--fill-color);\n",
              "    }\n",
              "    40% {\n",
              "      border-color: transparent;\n",
              "      border-right-color: var(--fill-color);\n",
              "      border-top-color: var(--fill-color);\n",
              "    }\n",
              "    60% {\n",
              "      border-color: transparent;\n",
              "      border-right-color: var(--fill-color);\n",
              "    }\n",
              "    80% {\n",
              "      border-color: transparent;\n",
              "      border-right-color: var(--fill-color);\n",
              "      border-bottom-color: var(--fill-color);\n",
              "    }\n",
              "    90% {\n",
              "      border-color: transparent;\n",
              "      border-bottom-color: var(--fill-color);\n",
              "    }\n",
              "  }\n",
              "</style>\n",
              "\n",
              "      <script>\n",
              "        async function quickchart(key) {\n",
              "          const quickchartButtonEl =\n",
              "            document.querySelector('#' + key + ' button');\n",
              "          quickchartButtonEl.disabled = true;  // To prevent multiple clicks.\n",
              "          quickchartButtonEl.classList.add('colab-df-spinner');\n",
              "          try {\n",
              "            const charts = await google.colab.kernel.invokeFunction(\n",
              "                'suggestCharts', [key], {});\n",
              "          } catch (error) {\n",
              "            console.error('Error during call to suggestCharts:', error);\n",
              "          }\n",
              "          quickchartButtonEl.classList.remove('colab-df-spinner');\n",
              "          quickchartButtonEl.classList.add('colab-df-quickchart-complete');\n",
              "        }\n",
              "        (() => {\n",
              "          let quickchartButtonEl =\n",
              "            document.querySelector('#df-6f1cec95-374d-4196-acec-127dd5c3057b button');\n",
              "          quickchartButtonEl.style.display =\n",
              "            google.colab.kernel.accessAllowed ? 'block' : 'none';\n",
              "        })();\n",
              "      </script>\n",
              "    </div>\n",
              "\n",
              "    </div>\n",
              "  </div>\n"
            ],
            "application/vnd.google.colaboratory.intrinsic+json": {
              "type": "dataframe"
            }
          },
          "metadata": {}
        }
      ],
      "source": [
        "PATH = '/content'\n",
        "train = pd.read_csv(f'{PATH}/train.csv')\n",
        "test  = pd.read_csv(f'{PATH}/test.csv')\n",
        "print(train.shape, test.shape)\n",
        "display(train.head())"
      ]
    },
    {
      "cell_type": "markdown",
      "id": "02ee91ae",
      "metadata": {
        "id": "02ee91ae"
      },
      "source": [
        "## 3  Quick EDA"
      ]
    },
    {
      "cell_type": "code",
      "execution_count": null,
      "id": "19dec2f1",
      "metadata": {
        "colab": {
          "base_uri": "https://localhost:8080/",
          "height": 554
        },
        "id": "19dec2f1",
        "outputId": "88f1eeda-dfce-4dc2-f232-5ec664a81e0c"
      },
      "outputs": [
        {
          "output_type": "stream",
          "name": "stdout",
          "text": [
            "Target distribution:\n",
            "target\n",
            "0    0.89951\n",
            "1    0.10049\n",
            "Name: proportion, dtype: float64\n"
          ]
        },
        {
          "output_type": "display_data",
          "data": {
            "text/plain": [
              "<Figure size 640x480 with 1 Axes>"
            ],
            "image/png": "[encoded data removed]"
          },
          "metadata": {}
        }
      ],
      "source": [
        "print('Target distribution:')\n",
        "print(train['target'].value_counts(normalize=True))\n",
        "train['target'].value_counts().plot(kind='bar', title='Class balance'); plt.show()"
      ]
    },
    {
      "cell_type": "markdown",
      "source": [
        "## Class-imbalance quick facts"
      ],
      "metadata": {
        "id": "QVsK8ui06Eyc"
      },
      "id": "QVsK8ui06Eyc"
    },
    {
      "cell_type": "code",
      "source": [
        "from collections import Counter\n",
        "neg, pos = Counter(train['target']).values()\n",
        "print(f\"Minority-class ratio: {pos / (neg+pos):.2%}\")\n",
        "print(f\"Baseline accuracy if you predict 0: {neg / (neg+pos):.2%}\")\n",
        "print(f\"Balanced log-loss lower bound (no skill): {-np.mean([np.log1p(-pos/(neg+pos)), np.log(pos/(neg+pos))]):.4f}\")\n"
      ],
      "metadata": {
        "colab": {
          "base_uri": "https://localhost:8080/"
        },
        "id": "3O2jAXDS5Roc",
        "outputId": "8e073f37-b053-4efc-c081-03c32ca94239"
      },
      "id": "3O2jAXDS5Roc",
      "execution_count": null,
      "outputs": [
        {
          "output_type": "stream",
          "name": "stdout",
          "text": [
            "Minority-class ratio: 10.05%\n",
            "Baseline accuracy if you predict 0: 89.95%\n",
            "Balanced log-loss lower bound (no skill): 1.2018\n"
          ]
        }
      ]
    },
    {
      "cell_type": "markdown",
      "source": [
        "## Missing-value & constant-feature scan"
      ],
      "metadata": {
        "id": "jvqWeVvs6KEd"
      },
      "id": "jvqWeVvs6KEd"
    },
    {
      "cell_type": "markdown",
      "source": [],
      "metadata": {
        "id": "Awlq-xd26WjL"
      },
      "id": "Awlq-xd26WjL"
    },
    {
      "cell_type": "code",
      "source": [
        "nulls = train.isnull().sum().sort_values(ascending=False)\n",
        "display(nulls.head())\n",
        "const_cols = [c for c in train.columns if train[c].nunique() == 1]\n",
        "print(f\"Constant columns: {const_cols[:5]} … total {len(const_cols)}\")"
      ],
      "metadata": {
        "colab": {
          "base_uri": "https://localhost:8080/",
          "height": 258
        },
        "id": "1Fcyd-Og6bLi",
        "outputId": "de750b50-b11d-431d-f449-9313b46146f8"
      },
      "id": "1Fcyd-Og6bLi",
      "execution_count": null,
      "outputs": [
        {
          "output_type": "display_data",
          "data": {
            "text/plain": [
              "ID_code    0\n",
              "target     0\n",
              "var_0      0\n",
              "var_1      0\n",
              "var_2      0\n",
              "dtype: int64"
            ],
            "text/html": [
              "<div>\n",
              "<style scoped>\n",
              "    .dataframe tbody tr th:only-of-type {\n",
              "        vertical-align: middle;\n",
              "    }\n",
              "\n",
              "    .dataframe tbody tr th {\n",
              "        vertical-align: top;\n",
              "    }\n",
              "\n",
              "    .dataframe thead th {\n",
              "        text-align: right;\n",
              "    }\n",
              "</style>\n",
              "<table border=\"1\" class=\"dataframe\">\n",
              "  <thead>\n",
              "    <tr style=\"text-align: right;\">\n",
              "      <th></th>\n",
              "      <th>0</th>\n",
              "    </tr>\n",
              "  </thead>\n",
              "  <tbody>\n",
              "    <tr>\n",
              "      <th>ID_code</th>\n",
              "      <td>0</td>\n",
              "    </tr>\n",
              "    <tr>\n",
              "      <th>target</th>\n",
              "      <td>0</td>\n",
              "    </tr>\n",
              "    <tr>\n",
              "      <th>var_0</th>\n",
              "      <td>0</td>\n",
              "    </tr>\n",
              "    <tr>\n",
              "      <th>var_1</th>\n",
              "      <td>0</td>\n",
              "    </tr>\n",
              "    <tr>\n",
              "      <th>var_2</th>\n",
              "      <td>0</td>\n",
              "    </tr>\n",
              "  </tbody>\n",
              "</table>\n",
              "</div><br><label><b>dtype:</b> int64</label>"
            ]
          },
          "metadata": {}
        },
        {
          "output_type": "stream",
          "name": "stdout",
          "text": [
            "Constant columns: [] … total 0\n"
          ]
        }
      ]
    },
    {
      "cell_type": "markdown",
      "source": [
        "## Distribution diagnostics per class"
      ],
      "metadata": {
        "id": "llRnMwjs9iwv"
      },
      "id": "llRnMwjs9iwv"
    },
    {
      "cell_type": "markdown",
      "source": [
        "3.1 Univariate KS statistic"
      ],
      "metadata": {
        "id": "Vl2xGoqG9mSg"
      },
      "id": "Vl2xGoqG9mSg"
    },
    {
      "cell_type": "code",
      "source": [
        "from scipy.stats import ks_2samp\n",
        "ks_scores = {c: ks_2samp(train.loc[train.target==0, c],\n",
        "                         train.loc[train.target==1, c]).statistic\n",
        "             for c in train.columns if c.startswith('var_')}\n",
        "(pd.Series(ks_scores)\n",
        "   .sort_values(ascending=False)[:20]\n",
        "   .plot.barh(figsize=(6,6), title='Top-20 features by KS distance'));\n"
      ],
      "metadata": {
        "colab": {
          "base_uri": "https://localhost:8080/",
          "height": 545
        },
        "id": "et9xze-89n9k",
        "outputId": "d347ea2f-f527-4eb5-a0c7-e6c9009ab943"
      },
      "id": "et9xze-89n9k",
      "execution_count": null,
      "outputs": [
        {
          "output_type": "display_data",
          "data": {
            "text/plain": [
              "<Figure size 600x600 with 1 Axes>"
            ],
            "image/png": "[encoded data removed]"
          },
          "metadata": {}
        }
      ]
    },
    {
      "cell_type": "markdown",
      "source": [],
      "metadata": {
        "id": "pCltGlN4-Kaz"
      },
      "id": "pCltGlN4-Kaz"
    },
    {
      "cell_type": "markdown",
      "id": "f0ec6269",
      "metadata": {
        "id": "f0ec6269"
      },
      "source": [
        "## 4  Cross‑validation & model\n",
        "We use **LightGBM (Gradient Boosted Decision Trees)** – a strong baseline for tabular numeric data – with **5‑fold Stratified CV** to respect class imbalance and obtain an out‑of‑fold (OOF) AUC estimate."
      ]
    },
    {
      "cell_type": "code",
      "execution_count": null,
      "id": "00f8ec47",
      "metadata": {
        "id": "00f8ec47"
      },
      "outputs": [],
      "source": [
        "FEATURES = [c for c in train.columns if c.startswith('var_')]\n",
        "TARGET   = 'target'\n",
        "\n",
        "params = dict(objective='binary',\n",
        "              metric='auc',\n",
        "              boosting_type='gbdt',\n",
        "              learning_rate=0.02,\n",
        "              num_leaves=64,\n",
        "              feature_fraction=0.20,\n",
        "              bagging_fraction=0.90,\n",
        "              bagging_freq=1,\n",
        "              seed=SEED,\n",
        "              n_jobs=-1)\n",
        "\n",
        "NFOLDS = 5\n",
        "skf = StratifiedKFold(n_splits=NFOLDS, shuffle=True, random_state=SEED)\n",
        "\n",
        "oof_preds = np.zeros(len(train))\n",
        "test_preds = np.zeros(len(test))\n",
        "\n",
        "for fold, (train_idx, valid_idx) in enumerate(skf.split(train[FEATURES], train[TARGET]), 1):\n",
        "    X_train, y_train = train.loc[train_idx, FEATURES], train.loc[train_idx, TARGET]\n",
        "    X_valid, y_valid = train.loc[valid_idx, FEATURES], train.loc[valid_idx, TARGET]\n",
        "\n",
        "    lgb_train = lgb.Dataset(X_train, y_train)\n",
        "    lgb_valid = lgb.Dataset(X_valid, y_valid, reference=lgb_train)\n",
        "\n",
        "    model = lgb.train(params, lgb_train,\n",
        "                      num_boost_round=2000,\n",
        "                      valid_sets=[lgb_train, lgb_valid],\n",
        "                      valid_names=['train','valid'],\n",
        "                      early_stopping_rounds=200,\n",
        "                      verbose_eval=200)\n",
        "\n",
        "    oof_preds[valid_idx] = model.predict(X_valid, num_iteration=model.best_iteration)\n",
        "    test_preds += model.predict(test[FEATURES], num_iteration=model.best_iteration) / NFOLDS\n",
        "\n",
        "    print(f'Fold {fold} AUC: {roc_auc_score(y_valid, oof_preds[valid_idx]):.5f}')\n",
        "\n",
        "print('CV AUC:', roc_auc_score(train[TARGET], oof_preds))"
      ]
    },
    {
      "cell_type": "markdown",
      "id": "3f9f7095",
      "metadata": {
        "id": "3f9f7095"
      },
      "source": [
        "### Feature importance (top 30)"
      ]
    },
    {
      "cell_type": "code",
      "execution_count": null,
      "id": "8d4946ea",
      "metadata": {
        "id": "8d4946ea"
      },
      "outputs": [],
      "source": [
        "importances = model.feature_importance()\n",
        "feat_imp = pd.DataFrame({'feature': FEATURES, 'importance': importances})\n",
        "feat_imp.nlargest(30,'importance').plot(kind='barh', x='feature', figsize=(6,8), title='LightGBM feature importance'); plt.gca().invert_yaxis(); plt.show()"
      ]
    },
    {
      "cell_type": "markdown",
      "id": "51efb97a",
      "metadata": {
        "id": "51efb97a"
      },
      "source": [
        "## 5  Create submission"
      ]
    },
    {
      "cell_type": "code",
      "execution_count": null,
      "id": "8caf3365",
      "metadata": {
        "id": "8caf3365"
      },
      "outputs": [],
      "source": [
        "submission = pd.read_csv(f'{PATH}/sample_submission.csv')\n",
        "submission['target'] = test_preds\n",
        "submission.to_csv('submission.csv', index=False)\n",
        "print('Saved: submission.csv')"
      ]
    },
    {
      "cell_type": "markdown",
      "id": "c00ad3ce",
      "metadata": {
        "id": "c00ad3ce"
      },
      "source": [
        "## 6  Next steps\n",
        "* **Hyperparameter tuning** – e.g. Optuna, Bayesian optimisation\n",
        "* **Ensembling** multiple seeds / models (e.g. CatBoost, NN, TabNet)\n",
        "* **Feature engineering** – interaction features, PCA projections\n",
        "* **CV scheme sensitivity** – check leaks, time‑based splits if applicable\n"
      ]
    }
  ],
  "metadata": {
    "colab": {
      "provenance": []
    },
    "language_info": {
      "name": "python"
    },
    "kernelspec": {
      "name": "python3",
      "display_name": "Python 3"
    }
  },
  "nbformat": 4,
  "nbformat_minor": 5
}